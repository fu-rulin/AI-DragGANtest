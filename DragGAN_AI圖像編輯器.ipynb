{
  "nbformat": 4,
  "nbformat_minor": 0,
  "metadata": {
    "colab": {
      "provenance": [],
      "gpuType": "T4",
      "authorship_tag": "ABX9TyPr8DQ4BMySncw9GBtEZ+qM",
      "include_colab_link": true
    },
    "kernelspec": {
      "name": "python3",
      "display_name": "Python 3"
    },
    "language_info": {
      "name": "python"
    },
    "accelerator": "GPU"
  },
  "cells": [
    {
      "cell_type": "markdown",
      "metadata": {
        "id": "view-in-github",
        "colab_type": "text"
      },
      "source": [
        "<a href=\"https://colab.research.google.com/github/fu-rulin/AI-DragGANtest/blob/main/DragGAN_AI%E5%9C%96%E5%83%8F%E7%B7%A8%E8%BC%AF%E5%99%A8.ipynb\" target=\"_parent\"><img src=\"https://colab.research.google.com/assets/colab-badge.svg\" alt=\"Open In Colab\"/></a>"
      ]
    },
    {
      "cell_type": "markdown",
      "metadata": {
        "id": "0eg56Ivp1WYO"
      },
      "source": [
        "# DragGAN Colab Demo\n",
        "\n",
        "Wild implementation of [Drag Your GAN: Interactive Point-based Manipulation on the Generative Image Manifold](https://vcai.mpi-inf.mpg.de/projects/DragGAN/)"
      ]
    },
    {
      "cell_type": "markdown",
      "source": [
        "首先打開筆記本設定後把硬體加速器改成GPU"
      ],
      "metadata": {
        "id": "jdPdbu8BKyBS"
      }
    },
    {
      "cell_type": "markdown",
      "source": [
        "#安裝"
      ],
      "metadata": {
        "id": "gzdw-Y36F_6E"
      }
    },
    {
      "cell_type": "markdown",
      "source": [
        "##下載DragGAN"
      ],
      "metadata": {
        "id": "U40HkrB-HnRX"
      }
    },
    {
      "cell_type": "code",
      "execution_count": null,
      "metadata": {
        "id": "Mtmspnl31WYR"
      },
      "outputs": [],
      "source": [
        "!git clone https://github.com/Zeqiang-Lai/DragGAN.git"
      ]
    },
    {
      "cell_type": "markdown",
      "source": [
        "##添加收索路徑"
      ],
      "metadata": {
        "id": "T5iKNSFJHyBu"
      }
    },
    {
      "cell_type": "code",
      "source": [
        "import sys\n",
        "sys.path.append(\".\")\n",
        "sys.path.append('./DragGAN')"
      ],
      "metadata": {
        "id": "PJkws4YAGQ_r"
      },
      "execution_count": null,
      "outputs": []
    },
    {
      "cell_type": "markdown",
      "source": [
        "##安裝requirements.txt"
      ],
      "metadata": {
        "id": "9bNHX5OIJr22"
      }
    },
    {
      "cell_type": "code",
      "source": [
        "!pip install -r DragGAN/requirements.txt\n",
        "\n",
        "from gradio_app import main"
      ],
      "metadata": {
        "id": "Y8GUzWIvGT0Q"
      },
      "execution_count": null,
      "outputs": []
    },
    {
      "cell_type": "markdown",
      "source": [
        "#最後執行demo\n"
      ],
      "metadata": {
        "id": "nfVagoJ1KSE8"
      }
    },
    {
      "cell_type": "markdown",
      "source": [
        "如果您在以下測試(demo)中遇到問題，例如錯誤的圖像，或面臨錯誤，請嘗試再次運行以下塊。"
      ],
      "metadata": {
        "id": "03JmqaFfGhQM"
      }
    },
    {
      "cell_type": "code",
      "execution_count": null,
      "metadata": {
        "id": "hgJOs5BB1WYS",
        "collapsed": true
      },
      "outputs": [],
      "source": [
        "#@title\n",
        "demo = main()\n",
        "demo.queue(concurrency_count=1, max_size=20).launch()"
      ]
    }
  ]
}